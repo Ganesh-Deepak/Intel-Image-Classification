{
 "cells": [
  {
   "cell_type": "code",
   "execution_count": 2,
   "id": "4314a415",
   "metadata": {},
   "outputs": [
    {
     "name": "stdout",
     "output_type": "stream",
     "text": [
      "2208\n",
      "2208\n",
      "14034\n",
      "3000\n",
      "Training accuracy 0.9476271911073109\n",
      "Test Accuracy 0.9316666666666666\n",
      "Prediction is:  buildings\n",
      "[[404   0   0   0   2  31]\n",
      " [  0 474   0   0   0   0]\n",
      " [  1   2 475  61  13   1]\n",
      " [  0   1  52 462   8   2]\n",
      " [  0   1   3   1 505   0]\n",
      " [ 25   0   0   1   0 475]]\n"
     ]
    }
   ],
   "source": [
    "import os\n",
    "import numpy as np\n",
    "import pandas as pd\n",
    "import cv2\n",
    "import matplotlib.pyplot as plt\n",
    "from skimage.transform import resize\n",
    "from skimage.feature import hog\n",
    "from skimage import exposure\n",
    "from skimage.io import imread, imshow\n",
    "import pickle\n",
    "import random\n",
    "from sklearn.model_selection import train_test_split\n",
    "from sklearn.metrics import confusion_matrix\n",
    "from sklearn.preprocessing import normalize,StandardScaler\n",
    "\n",
    "import torch\n",
    "import torch.nn as nn\n",
    "import torchvision.models as models\n",
    "import torchvision.transforms as transforms\n",
    "from torch.autograd import Variable\n",
    "from PIL import Image\n",
    "\n",
    "#Directory and Categories for classification\n",
    "\n",
    "\n",
    "categories=['buildings','forest','glacier','mountain','sea','street']\n",
    "target_names = ['buildings','forest','glacier','mountain','sea','street']\n",
    "\n",
    "#Opening feature pickle files\n",
    "\n",
    "pick_in=open('denseNet161_intel_train.pickle','rb')\n",
    "data1=pickle.load(pick_in)\n",
    "pick_in.close()\n",
    "\n",
    "pick_in=open('denseNet161_intel_test.pickle','rb')\n",
    "data2=pickle.load(pick_in)\n",
    "pick_in.close()\n",
    "\n",
    "\n",
    "\n",
    "#Splitting Data into features and labels and normalizing data\n",
    "#random.Random(42).shuffle(data1)\n",
    "#random.shuffle(data2)\n",
    "features_train=[]\n",
    "\n",
    "labels_train=[]\n",
    "features_test=[]\n",
    "\n",
    "labels_test=[]\n",
    "for feature,label in data1:\n",
    "\tfeatures_train.append(feature)\n",
    "\tlabels_train.append(label)\n",
    "\n",
    "for feature,label in data2:\n",
    "  features_test.append(feature)\n",
    "  labels_test.append(label)\n",
    "\n",
    "print(len(features_train[0]))\n",
    "print(len(features_test[0]))\n",
    "\n",
    "print(len(labels_train))\n",
    "print(len(labels_test))\n",
    "\n",
    "\n",
    "df1=pd.DataFrame(features_train)\n",
    "df2=pd.DataFrame(features_test)\n",
    "nor1=normalize(df1)\n",
    "nor2=normalize(df2)\n",
    "xtrain=pd.DataFrame(nor1)\n",
    "xtest=pd.DataFrame(nor2)\n",
    "#Removing zero value columns\n",
    "xtrain = xtrain.loc[:, (xtrain != 0).any(axis=0)]\n",
    "xtest = xtest.loc[:, (xtest != 0).any(axis=0)]\n",
    "ytrain=labels_train\n",
    "ytest=labels_test\n",
    "'''\n",
    "from sklearn.feature_selection import SelectPercentile as SP\n",
    "selector1 = SP(percentile=50) # select features with top 50% MI scores\n",
    "\n",
    "selector1.fit(norm1,labels)\n",
    "X = selector1.transform(norm1)\n",
    "'''\n",
    "'''\n",
    "from sklearn.decomposition import PCA\n",
    "pca=PCA(n_components=0.95)\n",
    "norm=pca.fit_transform(norm1)\n",
    "\n",
    "#xtrain,xtest, ytrain,ytest=train_test_split(norm,labels,test_size=0.2,random_state=42)\n",
    "xtrain,xtest, ytrain,ytest=train_test_split(norm,labels,test_size=0.25,random_state=42)\n",
    "accuracies={}\n",
    "mean_accuracies={}\n",
    "'''\n",
    "##########################################################################################################################################################################\n",
    "#SVC \n",
    "\n",
    "#import time\n",
    "#start=time.time()\n",
    "from sklearn.svm import SVC\n",
    "model=SVC(C=1,kernel='linear',gamma='auto')\n",
    "model.fit(xtrain,ytrain)\n",
    "svc_prediction=model.predict(xtest)\n",
    "accuracy1=model.score(xtest,ytest)\n",
    "accuracy_train1=model.score(xtrain,ytrain)\n",
    "\n",
    "print('Training accuracy', accuracy_train1)\n",
    "\n",
    "print('Test Accuracy',accuracy1)\n",
    "print('Prediction is: ',categories[svc_prediction[0]])\n",
    "cm=confusion_matrix(ytest,svc_prediction)\n",
    "print(cm)\n"
   ]
  },
  {
   "cell_type": "code",
   "execution_count": 4,
   "id": "8c6bd998",
   "metadata": {},
   "outputs": [
    {
     "name": "stdout",
     "output_type": "stream",
     "text": [
      "2208\n",
      "2208\n",
      "14034\n",
      "3000\n",
      "3780\n",
      "3780\n",
      "          0         1         2         3         4         5         6  \\\n",
      "0  0.009778  0.008460  0.008435  0.005366  0.009778  0.003334  0.002109   \n",
      "1  0.001602  0.000242  0.000959  0.005173  0.008358  0.007192  0.008849   \n",
      "2  0.007319  0.000312  0.000026  0.000178  0.002721  0.003581  0.000576   \n",
      "3  0.011592  0.011592  0.001243  0.000293  0.000839  0.001198  0.000332   \n",
      "4  0.001245  0.000805  0.000259  0.000125  0.001935  0.000850  0.001380   \n",
      "\n",
      "          7         8         9  ...      5979      5980      5981      5982  \\\n",
      "0  0.003334  0.001572  0.009778  ...  0.008808  0.065487  0.008608  0.000481   \n",
      "1  0.000808  0.000390  0.002324  ...  0.038521  0.090895  0.028647  0.032996   \n",
      "2  0.003291  0.000551  0.002658  ...  0.018707  0.104854  0.004954  0.006493   \n",
      "3  0.000548  0.003492  0.011592  ...  0.036701  0.033804  0.024569  0.003723   \n",
      "4  0.000569  0.000578  0.003363  ...  0.028575  0.053731  0.030777  0.000172   \n",
      "\n",
      "       5983      5984      5985      5986      5987  labels  \n",
      "0  0.001735  0.003329  0.001013  0.028251  0.001826       0  \n",
      "1  0.001961  0.019850  0.002863  0.024268  0.001876       0  \n",
      "2  0.004549  0.024932  0.006906  0.024185  0.008965       0  \n",
      "3  0.000359  0.005767  0.002811  0.000323  0.000108       0  \n",
      "4  0.002866  0.010535  0.041982  0.007156  0.109113       0  \n",
      "\n",
      "[5 rows x 5989 columns]\n",
      "          0         1         2         3         4         5         6  \\\n",
      "0  0.010017  0.010017  0.003659  0.002564  0.010017  0.006527  0.008114   \n",
      "1  0.001554  0.001979  0.002966  0.001045  0.009052  0.006952  0.003476   \n",
      "2  0.008204  0.002761  0.000653  0.001614  0.008170  0.003457  0.008727   \n",
      "3  0.008525  0.002615  0.001566  0.001238  0.003599  0.003608  0.006088   \n",
      "4  0.007871  0.005798  0.003180  0.004292  0.010280  0.001778  0.003180   \n",
      "\n",
      "          7         8         9  ...      5979      5980      5981      5982  \\\n",
      "0  0.004116  0.010017  0.010017  ...  0.023518  0.080907  0.017378  0.010002   \n",
      "1  0.003037  0.000317  0.007534  ...  0.007726  0.026162  0.033548  0.012080   \n",
      "2  0.008727  0.007562  0.005697  ...  0.042060  0.215398  0.002570  0.000623   \n",
      "3  0.008525  0.008525  0.008525  ...  0.018964  0.014696  0.013849  0.006401   \n",
      "4  0.000000  0.000000  0.010280  ...  0.012804  0.059427  0.006548  0.020143   \n",
      "\n",
      "       5983      5984      5985      5986      5987  labels  \n",
      "0  0.057642  0.004163  0.021189  0.029847  0.011768       0  \n",
      "1  0.002218  0.007908  0.001629  0.003605  0.000143       0  \n",
      "2  0.007426  0.000042  0.000293  0.000776  0.027825       0  \n",
      "3  0.003477  0.048672  0.004547  0.010346  0.002750       0  \n",
      "4  0.000000  0.022300  0.009880  0.013299  0.004931       0  \n",
      "\n",
      "[5 rows x 5989 columns]\n",
      "          0         1         2         3         4         5         6  \\\n",
      "0  0.001975  0.002153  0.002892  0.003091  0.004147  0.002265  0.002134   \n",
      "1  0.007634  0.006669  0.001997  0.002766  0.010041  0.003044  0.010041   \n",
      "2  0.008594  0.003833  0.001801  0.000957  0.007345  0.005621  0.011191   \n",
      "3  0.007854  0.008245  0.008245  0.003982  0.007735  0.001050  0.001285   \n",
      "4  0.011124  0.010932  0.008778  0.003548  0.003092  0.001504  0.000858   \n",
      "\n",
      "          7         8         9  ...      5979      5980      5981      5982  \\\n",
      "0  0.000262  0.000900  0.001174  ...  0.001864  0.068132  0.005287  0.000549   \n",
      "1  0.007853  0.009640  0.010041  ...  0.004754  0.051977  0.002475  0.000403   \n",
      "2  0.004658  0.002042  0.012040  ...  0.017332  0.034472  0.022980  0.007415   \n",
      "3  0.003790  0.004650  0.008245  ...  0.007516  0.036192  0.006257  0.000305   \n",
      "4  0.001064  0.003174  0.011124  ...  0.010442  0.029177  0.030713  0.079202   \n",
      "\n",
      "       5983      5984      5985      5986      5987  labels  \n",
      "0  0.006727  0.007604  0.031623  0.024064  0.006079       3  \n",
      "1  0.000223  0.006568  0.007068  0.000549  0.000000       1  \n",
      "2  0.001851  0.015650  0.004298  0.015772  0.008365       5  \n",
      "3  0.007097  0.009964  0.022916  0.029820  0.000813       5  \n",
      "4  0.000741  0.012626  0.000047  0.006212  0.003804       4  \n",
      "\n",
      "[5 rows x 5989 columns]\n",
      "0    3\n",
      "1    1\n",
      "2    5\n",
      "3    5\n",
      "4    4\n",
      "Name: labels, dtype: int64\n",
      "       0         1         2         3         4         5         6     \\\n",
      "0  0.001975  0.002153  0.002892  0.003091  0.004147  0.002265  0.002134   \n",
      "1  0.007634  0.006669  0.001997  0.002766  0.010041  0.003044  0.010041   \n",
      "2  0.008594  0.003833  0.001801  0.000957  0.007345  0.005621  0.011191   \n",
      "3  0.007854  0.008245  0.008245  0.003982  0.007735  0.001050  0.001285   \n",
      "4  0.011124  0.010932  0.008778  0.003548  0.003092  0.001504  0.000858   \n",
      "\n",
      "       7         8         9     ...      5978      5979      5980      5981  \\\n",
      "0  0.000262  0.000900  0.001174  ...  0.018904  0.001864  0.068132  0.005287   \n",
      "1  0.007853  0.009640  0.010041  ...  0.000000  0.004754  0.051977  0.002475   \n",
      "2  0.004658  0.002042  0.012040  ...  0.000199  0.017332  0.034472  0.022980   \n",
      "3  0.003790  0.004650  0.008245  ...  0.000000  0.007516  0.036192  0.006257   \n",
      "4  0.001064  0.003174  0.011124  ...  0.014926  0.010442  0.029177  0.030713   \n",
      "\n",
      "       5982      5983      5984      5985      5986      5987  \n",
      "0  0.000549  0.006727  0.007604  0.031623  0.024064  0.006079  \n",
      "1  0.000403  0.000223  0.006568  0.007068  0.000549  0.000000  \n",
      "2  0.007415  0.001851  0.015650  0.004298  0.015772  0.008365  \n",
      "3  0.000305  0.007097  0.009964  0.022916  0.029820  0.000813  \n",
      "4  0.079202  0.000741  0.012626  0.000047  0.006212  0.003804  \n",
      "\n",
      "[5 rows x 5988 columns]\n",
      "          0         1         2         3         4         5         6  \\\n",
      "0  0.010027  0.003982  0.004582  0.007154  0.010027  0.005631  0.008912   \n",
      "1  0.008318  0.000000  0.002245  0.001827  0.003655  0.003375  0.002461   \n",
      "2  0.002934  0.000000  0.000000  0.000773  0.009292  0.006468  0.007452   \n",
      "3  0.011937  0.011376  0.011937  0.007693  0.005116  0.000000  0.001034   \n",
      "4  0.001628  0.000240  0.010963  0.006855  0.005555  0.000791  0.000258   \n",
      "\n",
      "          7         8         9  ...      5979      5980      5981      5982  \\\n",
      "0  0.003558  0.009161  0.010027  ...  0.006181  0.233136  0.004292  0.027289   \n",
      "1  0.005864  0.006679  0.004574  ...  0.046065  0.031089  0.064800  0.011711   \n",
      "2  0.002857  0.000000  0.002934  ...  0.000044  0.027505  0.076603  0.008904   \n",
      "3  0.002451  0.001156  0.011937  ...  0.006558  0.076712  0.019845  0.005971   \n",
      "4  0.001462  0.000113  0.002386  ...  0.035042  0.071649  0.019735  0.026871   \n",
      "\n",
      "       5983      5984      5985      5986      5987  labels  \n",
      "0  0.015285  0.008140  0.015098  0.019181  0.001742       1  \n",
      "1  0.014813  0.012585  0.016423  0.027564  0.019783       0  \n",
      "2  0.001540  0.000393  0.002525  0.003055  0.013958       2  \n",
      "3  0.000036  0.003890  0.005067  0.019649  0.017292       2  \n",
      "4  0.008193  0.004766  0.038204  0.032570  0.018226       0  \n",
      "\n",
      "[5 rows x 5989 columns]\n",
      "0    1\n",
      "1    0\n",
      "2    2\n",
      "3    2\n",
      "4    0\n",
      "Name: labels, dtype: int64\n",
      "       0         1         2         3         4         5         6     \\\n",
      "0  0.010027  0.003982  0.004582  0.007154  0.010027  0.005631  0.008912   \n",
      "1  0.008318  0.000000  0.002245  0.001827  0.003655  0.003375  0.002461   \n",
      "2  0.002934  0.000000  0.000000  0.000773  0.009292  0.006468  0.007452   \n",
      "3  0.011937  0.011376  0.011937  0.007693  0.005116  0.000000  0.001034   \n",
      "4  0.001628  0.000240  0.010963  0.006855  0.005555  0.000791  0.000258   \n",
      "\n",
      "       7         8         9     ...      5978      5979      5980      5981  \\\n",
      "0  0.003558  0.009161  0.010027  ...  0.000281  0.006181  0.233136  0.004292   \n",
      "1  0.005864  0.006679  0.004574  ...  0.009417  0.046065  0.031089  0.064800   \n",
      "2  0.002857  0.000000  0.002934  ...  0.000000  0.000044  0.027505  0.076603   \n",
      "3  0.002451  0.001156  0.011937  ...  0.002839  0.006558  0.076712  0.019845   \n",
      "4  0.001462  0.000113  0.002386  ...  0.004199  0.035042  0.071649  0.019735   \n",
      "\n",
      "       5982      5983      5984      5985      5986      5987  \n",
      "0  0.027289  0.015285  0.008140  0.015098  0.019181  0.001742  \n",
      "1  0.011711  0.014813  0.012585  0.016423  0.027564  0.019783  \n",
      "2  0.008904  0.001540  0.000393  0.002525  0.003055  0.013958  \n",
      "3  0.005971  0.000036  0.003890  0.005067  0.019649  0.017292  \n",
      "4  0.026871  0.008193  0.004766  0.038204  0.032570  0.018226  \n",
      "\n",
      "[5 rows x 5988 columns]\n"
     ]
    }
   ],
   "source": [
    "features_train=[]\n",
    "\n",
    "labels_train=[]\n",
    "features_test=[]\n",
    "\n",
    "labels_test=[]\n",
    "for feature,label in data1:\n",
    "    features_train.append(feature)\n",
    "    labels_train.append(label)\n",
    "\n",
    "for feature,label in data2:\n",
    "    features_test.append(feature)\n",
    "    labels_test.append(label)\n",
    "\n",
    "\n",
    "\n",
    "pick_in=open('hog_train.pickle','rb')\n",
    "data3=pickle.load(pick_in)\n",
    "pick_in.close()\n",
    "\n",
    "pick_in=open('hog_test.pickle','rb')\n",
    "data4=pickle.load(pick_in)\n",
    "pick_in.close()\n",
    "\n",
    "\n",
    "features_hog_train=[]\n",
    "features_hog_test=[]\n",
    "\n",
    "\n",
    "\n",
    "for feature,label in data3:\n",
    "\tfeatures_hog_train.append(feature)\n",
    "\n",
    "\n",
    "for feature,label in data4:\n",
    "\tfeatures_hog_test.append(feature)\n",
    "\n",
    "\n",
    "print(len(features_train[0]))\n",
    "print(len(features_test[0]))\n",
    "print(len(labels_train))\n",
    "print(len(labels_test))\n",
    "\n",
    "print(len(features_hog_train[0]))\n",
    "print(len(features_hog_test[0]))\n",
    "\n",
    "hog_train=np.array(features_hog_train,dtype=float)\n",
    "hog_test=np.array(features_hog_test,dtype=float)\n",
    "\n",
    "feat_train=np.array(features_train,dtype=float)\n",
    "feat_test=np.array(features_test,dtype=float)\n",
    "\n",
    "final_train=np.concatenate((hog_train,feat_train),axis=1)\n",
    "final_test=np.concatenate((hog_test,feat_test),axis=1)\n",
    "\n",
    "\n",
    "df_train=pd.DataFrame(final_train)\n",
    "\n",
    "df_test=pd.DataFrame(final_test)\n",
    "\n",
    "\n",
    "nor1=normalize(df_train)\n",
    "nor2=normalize(df_test)\n",
    "\n",
    "df1=pd.DataFrame(nor1)\n",
    "df1['labels']=labels_train\n",
    "df2=pd.DataFrame(nor2)\n",
    "df2['labels']=labels_test\n",
    "\n",
    "print(df1.head())\n",
    "print(df2.head())\n",
    "shuffled1 = df1.sample(frac=1).reset_index()\n",
    "shuffled1.drop(shuffled1.columns[0],axis=1,inplace=True)\n",
    "print(shuffled1.head())\n",
    "ytrain=shuffled1.iloc[:,-1]\n",
    "print(ytrain.head())\n",
    "xtrain=shuffled1.drop(shuffled1.columns[-1],axis=1)\n",
    "print(xtrain.head())\n",
    "\n",
    "shuffled2 = df2.sample(frac=1).reset_index()\n",
    "shuffled2.drop(shuffled2.columns[0],axis=1,inplace=True)\n",
    "print(shuffled2.head())\n",
    "ytest=shuffled2.iloc[:,-1]\n",
    "print(ytest.head())\n",
    "xtest=shuffled2.drop(shuffled2.columns[-1],axis=1)\n",
    "print(xtest.head())\n",
    "\n"
   ]
  },
  {
   "cell_type": "code",
   "execution_count": 6,
   "id": "2029f39b",
   "metadata": {},
   "outputs": [],
   "source": [
    "from sklearn.decomposition import PCA"
   ]
  },
  {
   "cell_type": "code",
   "execution_count": 7,
   "id": "cba3ae32",
   "metadata": {},
   "outputs": [],
   "source": [
    "a=xtrain\n",
    "b=xtest"
   ]
  },
  {
   "cell_type": "code",
   "execution_count": 8,
   "id": "a515e32f",
   "metadata": {},
   "outputs": [
    {
     "data": {
      "text/plain": [
       "(14034, 5988)"
      ]
     },
     "execution_count": 8,
     "metadata": {},
     "output_type": "execute_result"
    }
   ],
   "source": [
    "a.shape"
   ]
  },
  {
   "cell_type": "code",
   "execution_count": 9,
   "id": "4e5e3ebb",
   "metadata": {},
   "outputs": [
    {
     "data": {
      "text/plain": [
       "(3000, 5988)"
      ]
     },
     "execution_count": 9,
     "metadata": {},
     "output_type": "execute_result"
    }
   ],
   "source": [
    "b.shape"
   ]
  },
  {
   "cell_type": "code",
   "execution_count": 10,
   "id": "db080710",
   "metadata": {},
   "outputs": [
    {
     "data": {
      "text/plain": [
       "PCA(n_components=0.95)"
      ]
     },
     "execution_count": 10,
     "metadata": {},
     "output_type": "execute_result"
    }
   ],
   "source": [
    "pca1=PCA(n_components=0.95)\n",
    "pca1.fit(a)"
   ]
  },
  {
   "cell_type": "code",
   "execution_count": 14,
   "id": "f68a30ae",
   "metadata": {},
   "outputs": [],
   "source": [
    "ax=pca1.transform(a)"
   ]
  },
  {
   "cell_type": "code",
   "execution_count": 15,
   "id": "dbaebf6c",
   "metadata": {},
   "outputs": [
    {
     "data": {
      "text/plain": [
       "(14034, 799)"
      ]
     },
     "execution_count": 15,
     "metadata": {},
     "output_type": "execute_result"
    }
   ],
   "source": [
    "ax.shape"
   ]
  },
  {
   "cell_type": "code",
   "execution_count": 16,
   "id": "f2c0910b",
   "metadata": {},
   "outputs": [],
   "source": [
    "bx=pca1.transform(b)"
   ]
  },
  {
   "cell_type": "code",
   "execution_count": 17,
   "id": "f6c257a4",
   "metadata": {},
   "outputs": [
    {
     "data": {
      "text/plain": [
       "(3000, 799)"
      ]
     },
     "execution_count": 17,
     "metadata": {},
     "output_type": "execute_result"
    }
   ],
   "source": [
    "bx.shape"
   ]
  },
  {
   "cell_type": "code",
   "execution_count": 18,
   "id": "6d81b091",
   "metadata": {},
   "outputs": [
    {
     "name": "stdout",
     "output_type": "stream",
     "text": [
      "Training accuracy 0.9481259797634317\n",
      "Test Accuracy 0.9326666666666666\n",
      "Prediction is:  forest\n",
      "[[402   0   0   0   2  33]\n",
      " [  0 474   0   0   0   0]\n",
      " [  1   2 479  57  13   1]\n",
      " [  0   1  51 463   8   2]\n",
      " [  0   0   3   1 506   0]\n",
      " [ 26   0   0   1   0 474]]\n"
     ]
    }
   ],
   "source": [
    "from sklearn.svm import SVC\n",
    "model=SVC(C=1,kernel='linear',gamma='auto')\n",
    "model.fit(ax,ytrain)\n",
    "svc_prediction=model.predict(bx)\n",
    "accuracy1=model.score(bx,ytest)\n",
    "accuracy_train1=model.score(ax,ytrain)\n",
    "\n",
    "print('Training accuracy', accuracy_train1)\n",
    "\n",
    "print('Test Accuracy',accuracy1)\n",
    "print('Prediction is: ',categories[svc_prediction[0]])\n",
    "cm=confusion_matrix(ytest,svc_prediction)\n",
    "print(cm)\n"
   ]
  },
  {
   "cell_type": "code",
   "execution_count": 19,
   "id": "2ad29966",
   "metadata": {},
   "outputs": [
    {
     "data": {
      "image/png": "[encoded data removed]",
      "text/plain": [
       "<Figure size 1008x720 with 2 Axes>"
      ]
     },
     "metadata": {},
     "output_type": "display_data"
    }
   ],
   "source": [
    "import seaborn as sns\n",
    "sns.set(rc={'figure.figsize':(14,10)})\n",
    "group_counts = [\"{0:0.0f}\".format(value) for value in cm.flatten()]\n",
    "group_percentages = [\"{0:.2%}\".format(value) for value in cm.flatten()/np.sum(cm)]\n",
    "lab = [f\"{v1}\\n{v2}\\n\" for v1, v2 in zip(group_counts,group_percentages)]\n",
    "n=len(categories)\n",
    "lab = np.asarray(lab).reshape(n,n)\n",
    "ax = sns.heatmap(cm, annot=lab, fmt='', cmap='Blues')\n",
    "ax.set_title(f'Seaborn Confusion Matrix with labels for SVM with Accuracy of {accuracy1*100:.02f}%\\n');\n",
    "ax.set_xlabel('\\nPredicted Weather Category')\n",
    "ax.set_ylabel('Actual Weather Category ');\n",
    "## Ticket labels - List must be in alphabetical order\n",
    "ax.xaxis.set_ticklabels(categories)\n",
    "ax.yaxis.set_ticklabels(categories)\n",
    "## Display the visualization of the Confusion Matrix.\n",
    "plt.show()"
   ]
  },
  {
   "cell_type": "code",
   "execution_count": 4,
   "id": "43b58e34",
   "metadata": {},
   "outputs": [
    {
     "data": {
      "text/plain": [
       "<Figure size 720x720 with 0 Axes>"
      ]
     },
     "metadata": {},
     "output_type": "display_data"
    }
   ],
   "source": [
    "plt.figure(figsize=(10,10))\n",
    "plt.show()"
   ]
  },
  {
   "cell_type": "code",
   "execution_count": 5,
   "id": "b78358d0",
   "metadata": {},
   "outputs": [
    {
     "data": {
      "text/plain": [
       "<module 'matplotlib.pyplot' from 'C:\\\\Users\\\\vgane\\\\AppData\\\\Roaming\\\\Python\\\\Python38\\\\site-packages\\\\matplotlib\\\\pyplot.py'>"
      ]
     },
     "execution_count": 5,
     "metadata": {},
     "output_type": "execute_result"
    }
   ],
   "source": [
    "plt"
   ]
  },
  {
   "cell_type": "code",
   "execution_count": null,
   "id": "3f5dc896",
   "metadata": {},
   "outputs": [],
   "source": []
  }
 ],
 "metadata": {
  "kernelspec": {
   "display_name": "Python 3 (ipykernel)",
   "language": "python",
   "name": "python3"
  },
  "language_info": {
   "codemirror_mode": {
    "name": "ipython",
    "version": 3
   },
   "file_extension": ".py",
   "mimetype": "text/x-python",
   "name": "python",
   "nbconvert_exporter": "python",
   "pygments_lexer": "ipython3",
   "version": "3.8.8"
  }
 },
 "nbformat": 4,
 "nbformat_minor": 5
}
